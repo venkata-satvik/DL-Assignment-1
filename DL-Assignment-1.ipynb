{
  "nbformat": 4,
  "nbformat_minor": 0,
  "metadata": {
    "colab": {
      "provenance": []
    },
    "kernelspec": {
      "name": "python3",
      "display_name": "Python 3"
    },
    "language_info": {
      "name": "python"
    }
  },
  "cells": [
    {
      "cell_type": "code",
      "source": [
        "import tensorflow as tf\n",
        "from tensorflow import keras\n",
        "from tensorflow.keras import layers\n",
        "from tensorflow.keras.datasets import mnist\n",
        "\n",
        "# Loading the MNIST dataset\n",
        "(x_train, y_train), (x_test, y_test) = mnist.load_data()\n",
        "\n",
        "# Reshape the data to a 2D array of shape (num_samples, 28*28)\n",
        "x_train = x_train.reshape((-1, 28*28))\n",
        "x_test = x_test.reshape((-1, 28*28))\n",
        "\n",
        "# Convert the data to float32 and scale the pixel values to [0, 1]\n",
        "x_train = x_train.astype('float32') / 255.0\n",
        "x_test = x_test.astype('float32') / 255.0\n",
        "\n",
        "# Converting the labels to one-hot encoded vectors\n",
        "y_train = tf.keras.utils.to_categorical(y_train, num_classes=10)\n",
        "y_test = tf.keras.utils.to_categorical(y_test, num_classes=10)\n",
        "\n",
        "# Define the model architecture\n",
        "model = keras.Sequential([\n",
        "    layers.Dense(512, activation='relu', input_shape=(28*28,)),\n",
        "    layers.Dropout(0.2),\n",
        "    layers.Dense(256, activation='relu'),\n",
        "    layers.Dropout(0.2),\n",
        "    layers.Dense(10, activation='softmax')\n",
        "])\n",
        "\n",
        "# Compiling the model\n",
        "model.compile(loss='categorical_crossentropy',\n",
        "              optimizer='adam',\n",
        "              metrics=['accuracy'])\n",
        "\n",
        "# Training the model\n",
        "history = model.fit(x_train, y_train,\n",
        "                    batch_size=128,\n",
        "                    epochs=20,\n",
        "                    verbose=1,\n",
        "                    validation_data=(x_test, y_test))\n",
        "\n",
        "# Plot the training and test loss curves\n",
        "import matplotlib.pyplot as plt\n",
        "\n",
        "plt.plot(history.history['loss'], label='Training Loss')\n",
        "plt.plot(history.history['val_loss'], label='Test Loss')\n",
        "plt.title('Training and Test Loss')\n",
        "plt.xlabel('Epoch')\n",
        "plt.ylabel('Loss')\n",
        "plt.legend()\n",
        "plt.show()"
      ],
      "metadata": {
        "colab": {
          "base_uri": "https://localhost:8080/",
          "height": 989
        },
        "id": "b1Z1RnoXXtWq",
        "outputId": "57429df4-715e-4fc1-f164-9db304999e40"
      },
      "execution_count": 4,
      "outputs": [
        {
          "output_type": "stream",
          "name": "stdout",
          "text": [
            "Epoch 1/20\n",
            "469/469 [==============================] - 10s 20ms/step - loss: 0.2667 - accuracy: 0.9197 - val_loss: 0.1103 - val_accuracy: 0.9651\n",
            "Epoch 2/20\n",
            "469/469 [==============================] - 10s 22ms/step - loss: 0.1078 - accuracy: 0.9675 - val_loss: 0.0762 - val_accuracy: 0.9747\n",
            "Epoch 3/20\n",
            "469/469 [==============================] - 8s 17ms/step - loss: 0.0773 - accuracy: 0.9762 - val_loss: 0.0725 - val_accuracy: 0.9772\n",
            "Epoch 4/20\n",
            "469/469 [==============================] - 10s 22ms/step - loss: 0.0583 - accuracy: 0.9818 - val_loss: 0.0659 - val_accuracy: 0.9798\n",
            "Epoch 5/20\n",
            "469/469 [==============================] - 9s 19ms/step - loss: 0.0493 - accuracy: 0.9845 - val_loss: 0.0657 - val_accuracy: 0.9788\n",
            "Epoch 6/20\n",
            "469/469 [==============================] - 8s 17ms/step - loss: 0.0409 - accuracy: 0.9870 - val_loss: 0.0641 - val_accuracy: 0.9815\n",
            "Epoch 7/20\n",
            "469/469 [==============================] - 9s 19ms/step - loss: 0.0367 - accuracy: 0.9882 - val_loss: 0.0611 - val_accuracy: 0.9803\n",
            "Epoch 8/20\n",
            "469/469 [==============================] - 9s 19ms/step - loss: 0.0306 - accuracy: 0.9897 - val_loss: 0.0643 - val_accuracy: 0.9822\n",
            "Epoch 9/20\n",
            "469/469 [==============================] - 8s 17ms/step - loss: 0.0272 - accuracy: 0.9910 - val_loss: 0.0672 - val_accuracy: 0.9814\n",
            "Epoch 10/20\n",
            "469/469 [==============================] - 9s 20ms/step - loss: 0.0237 - accuracy: 0.9918 - val_loss: 0.0675 - val_accuracy: 0.9816\n",
            "Epoch 11/20\n",
            "469/469 [==============================] - 9s 20ms/step - loss: 0.0235 - accuracy: 0.9922 - val_loss: 0.0694 - val_accuracy: 0.9809\n",
            "Epoch 12/20\n",
            "469/469 [==============================] - 8s 17ms/step - loss: 0.0217 - accuracy: 0.9926 - val_loss: 0.0701 - val_accuracy: 0.9801\n",
            "Epoch 13/20\n",
            "469/469 [==============================] - 9s 19ms/step - loss: 0.0216 - accuracy: 0.9931 - val_loss: 0.0732 - val_accuracy: 0.9825\n",
            "Epoch 14/20\n",
            "469/469 [==============================] - 9s 19ms/step - loss: 0.0195 - accuracy: 0.9934 - val_loss: 0.0677 - val_accuracy: 0.9837\n",
            "Epoch 15/20\n",
            "469/469 [==============================] - 8s 17ms/step - loss: 0.0194 - accuracy: 0.9933 - val_loss: 0.0713 - val_accuracy: 0.9825\n",
            "Epoch 16/20\n",
            "469/469 [==============================] - 9s 19ms/step - loss: 0.0203 - accuracy: 0.9935 - val_loss: 0.0654 - val_accuracy: 0.9849\n",
            "Epoch 17/20\n",
            "469/469 [==============================] - 9s 19ms/step - loss: 0.0146 - accuracy: 0.9949 - val_loss: 0.0670 - val_accuracy: 0.9827\n",
            "Epoch 18/20\n",
            "469/469 [==============================] - 8s 17ms/step - loss: 0.0155 - accuracy: 0.9948 - val_loss: 0.0810 - val_accuracy: 0.9809\n",
            "Epoch 19/20\n",
            "469/469 [==============================] - 9s 19ms/step - loss: 0.0155 - accuracy: 0.9949 - val_loss: 0.0776 - val_accuracy: 0.9832\n",
            "Epoch 20/20\n",
            "469/469 [==============================] - 8s 18ms/step - loss: 0.0148 - accuracy: 0.9947 - val_loss: 0.0740 - val_accuracy: 0.9835\n"
          ]
        },
        {
          "output_type": "display_data",
          "data": {
            "text/plain": [
              "<Figure size 432x288 with 1 Axes>"
            ],
            "image/png": "[encoded data removed]"
          },
          "metadata": {
            "needs_background": "light"
          }
        }
      ]
    }
  ]
}